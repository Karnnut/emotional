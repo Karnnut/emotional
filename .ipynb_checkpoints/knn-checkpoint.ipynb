{
 "cells": [
  {
   "cell_type": "code",
   "execution_count": 3,
   "id": "18331360",
   "metadata": {},
   "outputs": [],
   "source": [
    "import numpy as np\n",
    "import pandas as pd \n",
    "from sklearn.cluster import KMeans\n",
    "import matplotlib.pyplot as plt\n",
    "from mpl_toolkits.mplot3d import Axes3D\n",
    "import plotly.graph_objs as go\n",
    "from plotly import tools\n",
    "from plotly.subplots import make_subplots\n",
    "import plotly.offline as py\n",
    "from sklearn.cluster import DBSCAN\n",
    "import plotly.express as px\n",
    "import os\n",
    "import math"
   ]
  },
  {
   "cell_type": "code",
   "execution_count": 19,
   "id": "41d38e75-b754-4764-8f1e-7eeabef8a5a9",
   "metadata": {},
   "outputs": [],
   "source": [
    "def calculate_personality(average_speed_out, average_speed_cross, last_row):\n",
    "   # df = pd.read_csv(\"Cautious/cautious08.csv\")\n",
    "   # df = pd.read_csv(\"Calmly/calmly08.csv\")\n",
    "   average_speed_out1 = average_speed_out\n",
    "\n",
    "   # Calculate Speed before enter crosswalk\n",
    "   average_speed_cross1 =average_speed_cross\n",
    "\n",
    "   #Calculate a final time\n",
    "   final_time = last_row\n",
    "\n",
    "   # print(\"Final Time:\", final_time)\n",
    "\n",
    "   # print(\"Average Speed All:\",average_speed_all)\n",
    "\n",
    "   # print(\"Average Speed Out:\",average_speed_out1)\n",
    "\n",
    "   # print(\"Average Speed Cross:\",average_speed_cross1)\n",
    "\n",
    "   result = result_and(final_time, average_speed_out1, average_speed_cross1)\n",
    "   # result = result_and(156, 32, 29)\n",
    "   # print(\"result\", result)\n",
    "   pesonality = personality_detection(result)\n",
    "   return pesonality\n",
    "# ---------------------------------------------------------------- Start Results --------------------------------\n",
    "\n",
    "def personality_detection(data):\n",
    "   if data <= 0.4:\n",
    "      result = \"Aggressive\"\n",
    "   elif data >= 0.6:\n",
    "      result = \"Calmly\"\n",
    "   else:\n",
    "      result = \"Cautious\"\n",
    "\n",
    "   return result\n",
    "\n",
    "# ---------------------------------------------------------------- Get a Slope ----------------------------------------------------------------\n",
    "\n",
    "def getSlope(x1, y1, x2, y2):\n",
    "    #Avoid zero division error of vertical line for shouldered trapmf\n",
    "    try:\n",
    "        slope = (y2 - y1) / (x2 - x1)\n",
    "    except ZeroDivisionError:\n",
    "        slope = 0\n",
    "    return slope\n",
    "\n",
    "def getYIntercept(x1, y1, x2, y2):\n",
    "    m = getSlope(x1, y1, x2, y2)\n",
    "    if y1 < y2:\n",
    "        y = y2\n",
    "        x = x2\n",
    "    else:\n",
    "        y = y1\n",
    "        x = x1\n",
    "    return y - m * x\n",
    "\n",
    "def result_and(final_time, average_speed_out1, average_speed_cross1):\n",
    "   sum_ = []\n",
    "   data1 = [time_low(final_time), speed_round_slow(average_speed_out1), speed_cross_slow(average_speed_cross1)]\n",
    "   sum_.append(min(data1))\n",
    "   data2 = [time_low(final_time) , speed_round_slow(average_speed_out1) , speed_cross_mid(average_speed_cross1)]\n",
    "   sum_.append(min(data2))\n",
    "   data3 = [time_low(final_time) , speed_round_slow(average_speed_out1) , speed_cross_fast(average_speed_cross1)]\n",
    "   sum_.append(min(data3))\n",
    "   data4 = [time_low(final_time) , speed_round_mid(average_speed_out1) , speed_cross_slow(average_speed_cross1)]\n",
    "   sum_.append(min(data4))\n",
    "   data5 = [time_low(final_time) , speed_round_mid(average_speed_out1) , speed_cross_mid(average_speed_cross1)]\n",
    "   sum_.append(min(data5))\n",
    "   data6 = [time_low(final_time) , speed_round_mid(average_speed_out1) , speed_cross_fast(average_speed_cross1)]\n",
    "   sum_.append(min(data6))\n",
    "   data7 = [time_low(final_time) , speed_round_fast(average_speed_out1) , speed_cross_slow(average_speed_cross1)]\n",
    "   sum_.append(min(data7))\n",
    "   data8 = [time_low(final_time) , speed_round_fast(average_speed_out1) , speed_cross_mid(average_speed_cross1)]\n",
    "   sum_.append(min(data8))\n",
    "   data9 = [time_low(final_time) , speed_round_fast(average_speed_out1) , speed_cross_fast(average_speed_cross1)]\n",
    "   sum_.append(min(data9))\n",
    "\n",
    "   data10 = [time_mid(final_time) , speed_round_slow(average_speed_out1) , speed_cross_slow(average_speed_cross1)]\n",
    "   sum_.append(min(data10))\n",
    "   data11 = [time_mid(final_time) , speed_round_slow(average_speed_out1) , speed_cross_mid(average_speed_cross1)]\n",
    "   sum_.append(min(data11))\n",
    "   data12 = [time_mid(final_time) , speed_round_slow(average_speed_out1) , speed_cross_fast(average_speed_cross1)]\n",
    "   sum_.append(min(data12))\n",
    "   data13 = [time_mid(final_time) , speed_round_mid(average_speed_out1) , speed_cross_slow(average_speed_cross1)]\n",
    "   sum_.append(min(data13))\n",
    "   data14 = [time_mid(final_time) , speed_round_mid(average_speed_out1) , speed_cross_mid(average_speed_cross1)]\n",
    "   sum_.append(min(data14))\n",
    "   data15 = [time_mid(final_time) , speed_round_mid(average_speed_out1) , speed_cross_fast(average_speed_cross1)]\n",
    "   sum_.append(min(data15))\n",
    "   data16 = [time_mid(final_time) , speed_round_fast(average_speed_out1) , speed_cross_slow(average_speed_cross1)]\n",
    "   sum_.append(min(data16))\n",
    "   data17 = [time_mid(final_time) , speed_round_fast(average_speed_out1) , speed_cross_mid(average_speed_cross1)]\n",
    "   sum_.append(min(data17))\n",
    "   data18 = [time_mid(final_time) , speed_round_fast(average_speed_out1) , speed_cross_fast(average_speed_cross1)]\n",
    "   sum_.append(min(data18))\n",
    "\n",
    "   data19 = [time_high(final_time) , speed_round_slow(average_speed_out1) , speed_cross_slow(average_speed_cross1)]\n",
    "   sum_.append(min(data19))\n",
    "   data20 = [time_high(final_time) , speed_round_slow(average_speed_out1) , speed_cross_mid(average_speed_cross1)]\n",
    "   sum_.append(min(data20))\n",
    "   data21 = [time_high(final_time) , speed_round_slow(average_speed_out1) , speed_cross_fast(average_speed_cross1)]\n",
    "   sum_.append(min(data21))\n",
    "   data22 = [time_high(final_time) , speed_round_mid(average_speed_out1) , speed_cross_slow(average_speed_cross1)]\n",
    "   sum_.append(min(data22))\n",
    "   data23 = [time_high(final_time) , speed_round_mid(average_speed_out1) , speed_cross_mid(average_speed_cross1)]\n",
    "   sum_.append(min(data23))\n",
    "   data24 = [time_high(final_time) , speed_round_mid(average_speed_out1) , speed_cross_fast(average_speed_cross1)]\n",
    "   sum_.append(min(data24))\n",
    "   data25 = [time_high(final_time) , speed_round_fast(average_speed_out1) , speed_cross_slow(average_speed_cross1)]\n",
    "   sum_.append(min(data25))\n",
    "   data26 = [time_high(final_time) , speed_round_fast(average_speed_out1) , speed_cross_mid(average_speed_cross1)]\n",
    "   sum_.append(min(data26))\n",
    "   data27 = [time_high(final_time) , speed_round_fast(average_speed_out1) , speed_cross_fast(average_speed_cross1)]\n",
    "   sum_.append(min(data27))\n",
    "   \n",
    "   # 9 rule based for testing\n",
    "   out1 = test_cautious(sum_[0])\n",
    "   out2 = test_cautious(sum_[1])   \n",
    "   out3 = test_aggressive(sum_[2])\n",
    "\n",
    "   out4 = test_cautious(sum_[3])   \n",
    "   out5 = test_cautious(sum_[4])   \n",
    "   out6 = test_aggressive(sum_[5])\n",
    "\n",
    "   out7 = test_aggressive(sum_[6])\n",
    "   out8 = test_aggressive(sum_[7])\n",
    "   out9 = test_aggressive(sum_[8])\n",
    "\n",
    "   out10 = test_calmly(sum_[9])\n",
    "   out11 = test_calmly(sum_[10])\n",
    "   out12 = test_aggressive(sum_[11])\n",
    "\n",
    "   out13 = test_calmly(sum_[12])\n",
    "   out14 = test_cautious(sum_[13])\n",
    "   out15 = test_aggressive(sum_[14])\n",
    "\n",
    "   out16 = test_cautious(sum_[15])\n",
    "   out17 = test_cautious(sum_[16])\n",
    "   out18 = test_aggressive(sum_[17])\n",
    "\n",
    "   out19 = test_calmly(sum_[18])\n",
    "   out20 = test_calmly(sum_[19])\n",
    "   out21 = test_aggressive(sum_[20])\n",
    "\n",
    "   out22 = test_calmly(sum_[21])\n",
    "   out23 = test_cautious(sum_[22])\n",
    "   out24 = test_aggressive(sum_[23])\n",
    "\n",
    "   out25 = test_aggressive(sum_[24])\n",
    "   out26 = test_aggressive(sum_[25])\n",
    "   out27 = test_aggressive(sum_[26])\n",
    "\n",
    "\n",
    "   find_max = []\n",
    "   for i in range(100):\n",
    "      # test = max(out1[i], out2[i], out3[i], out4[i], out5[i], out6[i], out7[i], out8[i], out9[i])\n",
    "      # print(test)\n",
    "      find_max.append(max(out1[i], out2[i], out3[i], out4[i], out5[i], out6[i], out7[i], out8[i], out9[i], out10[i], out11[i], out12[i], out13[i], out14[i], out15[i], out16[i], out17[i], out18[i], out19[i], out20[i], out21[i], out22[i], out23[i], out24[i], out25[i], out26[i], out27[i]))\n",
    "      #print(\"Max:\", find_max)\n",
    "\n",
    "   # out = []\n",
    "   # for i in range(27):\n",
    "   #    out[i] = test_aggressive[sum_[i]]\n",
    "   \n",
    "   # ยังทำไม่เสร็จ\n",
    "   # find_max = []\n",
    "   # for i in range(27):\n",
    "   #    for j in range(100):\n",
    "   #       find_max.append(max(out[i][j], out[i][i], out3[i], out4[i], out5[i], out6[i], out7[i], out8[i], out9[i], out10[i], out11[i], out12[i], out13[i], out14[i], out15[i], out16[i], out17[i], out18[i], out19[i], out20[i], out21[i], out22[i], out23[i], out24[i], out25[i], out26[i], out27[i]))\n",
    "   \n",
    "\n",
    "   # find cog \n",
    "   sum_xi_i = []\n",
    "   sum_xi = []\n",
    "\n",
    "   for i in range(len(find_max)):\n",
    "      sum_xi_i.append(find_max[i]*i)\n",
    "      sum_xi.append(find_max[i])\n",
    "   \n",
    "   cog = sum(sum_xi_i)/(sum(sum_xi)*100)\n",
    "   # print(\"Cog = \", cog)\n",
    "   return cog\n",
    "   #result = max(sum_)\n",
    "   # result = data1 or data2 or data3 or data4 or data5 or data6 or data7 or data8 or data9 or data10 or data11 or data12 or data13 or data14 or data15 or data16 or data17 or data18 or data19 or data20 or data21 or data22 or data23 or data24 or data25 or data26 or data27\n",
    "\n",
    "# ---------------------------------------------------------------- Graph functions ----------------------------------------------------------------\n",
    "\n",
    "def test_aggressive(in_mf):\n",
    "   # aggressive_list = []\n",
    "   aggressive_list = list(range(0,100))\n",
    "   point = [0,1,40,0]\n",
    "    \n",
    "   for i in range(len(aggressive_list)):\n",
    "      if i < 40:\n",
    "         aggressive_list[i] = -0.025 * (i+1) + 1\n",
    "      else:\n",
    "         aggressive_list[i] = 0\n",
    "      \n",
    "   for j in range(40):\n",
    "      if in_mf < aggressive_list[j]:\n",
    "         aggressive_list[j] = in_mf\n",
    "   \n",
    "   return aggressive_list\n",
    "\n",
    "def test_cautious(in_mf):\n",
    "   cautious_list = list(range(0,100))\n",
    "   point = [0, 10,50,90]\n",
    "   \n",
    "   for i in range(len(cautious_list)):\n",
    "      if i <=10 :\n",
    "         cautious_list[i] = 0\n",
    "      elif 10 < i < 50 :\n",
    "         cautious_list[i] = (0.025 * i) - 0.25\n",
    "      elif 50 <= i < 90 :\n",
    "         cautious_list[i] = (-0.025 * i) + 2.25\n",
    "      elif 90 <= i <= 100 :\n",
    "         cautious_list[i] = 0\n",
    "      \n",
    "      \n",
    "   for j in range(10,90):\n",
    "      if in_mf < cautious_list[j]:\n",
    "         cautious_list[j] = in_mf\n",
    "   \n",
    "   return cautious_list\n",
    "\n",
    "def test_calmly(in_mf):\n",
    "   calmly_list = list(range(0,100))\n",
    "   point = [60,100,1000,1000]\n",
    "    \n",
    "   for i in range(len(calmly_list)):\n",
    "        if i >= 60:\n",
    "            calmly_list[i] = 0.025 * i - 1.5\n",
    "        else:\n",
    "            calmly_list[i] = 0\n",
    "      #   print(i,\" = \", calmly_list[i])\n",
    "\n",
    "      \n",
    "   for j in range(60,100):\n",
    "      if in_mf < calmly_list[j]:\n",
    "         calmly_list[j] = in_mf\n",
    "   \n",
    "   return calmly_list\n",
    "\n",
    "#---------------------------------------------------------------- Start Time Detection --------------------------------\n",
    "\n",
    "def time_low(data):\n",
    "   points = [-186, 1, 180, 250]\n",
    "   if (data <= 120):\n",
    "      result = 1\n",
    "   elif (data > 300):\n",
    "      result = 0\n",
    "   else: \n",
    "      result = trapmf(data, points)\n",
    "   return result\n",
    "\n",
    "def time_mid(data):\n",
    "   points = [190, 230, 380]\n",
    "   if (data == 300):\n",
    "      result = 1\n",
    "   else:\n",
    "      result = trimf(data, points)\n",
    "   return result\n",
    "      \n",
    "def time_high(data):\n",
    "   points = [250, 300, 10000]\n",
    "   if (data >= 500):\n",
    "      result = 1\n",
    "   else:\n",
    "      result = trimf(data, points)\n",
    "   return result\n",
    "\n",
    "# ---------------------------------------------------------------- Start Speed_roundabout ----------------------------------------------------------------\n",
    "def speed_round_slow(data):\n",
    "   points = [-1000, 9, 15]\n",
    "   if (data <= 0):\n",
    "      result = 1\n",
    "   else:\n",
    "      result = trimf(data, points)\n",
    "   return result\n",
    "\n",
    "def speed_round_mid(data):\n",
    "   points = [8, 15, 30]\n",
    "   # if (data == 25):\n",
    "   #    result = 1\n",
    "   # else:\n",
    "   result = trimf(data, points)\n",
    "   return result\n",
    "\n",
    "def speed_round_fast(data):\n",
    "   points = [15, 32, 1000, 1000]\n",
    "   # if (data >= 50):\n",
    "   #    result = 1\n",
    "   # else:\n",
    "   result = trapmf(data, points)\n",
    "   return result\n",
    "\n",
    "# ---------------------------------------------------------------- Start Speed Crosswalk----------------------------------------------------------------\n",
    "\n",
    "def speed_cross_slow(data):\n",
    "   points = [-1000, 0, 10, 20]\n",
    "   result = trapmf(data, points)\n",
    "   return result      \n",
    "\n",
    "def speed_cross_mid(data):\n",
    "   points = [9, 20, 30]\n",
    "   result = trimf(data, points)\n",
    "   return result\n",
    "\n",
    "def speed_cross_fast(data):\n",
    "   points = [20, 42, 1000, 1000]\n",
    "   result = trapmf(data, points)\n",
    "   return result\n",
    "\n",
    "# ---------------------------------------------------------------- Classify Data --------------------------------\n",
    "\n",
    "def sum_speed(df):\n",
    "   sum_speed = 0\n",
    "   count = 0\n",
    "\n",
    "   for i in range(0, len(df[\"Speed\"])):\n",
    "      passed_roundabout = df[\"Circus entry\"]\n",
    "      speed = df[\"Speed\"]\n",
    "      if (passed_roundabout[i] == 1) or (passed_roundabout[i] == 2) or (passed_roundabout[i] == 3) or (passed_roundabout[i] == 4) or (passed_roundabout[i] == 5) or (passed_roundabout[i] == 6 ) or (passed_roundabout[i] == 7) or (passed_roundabout[i] == 8) or (passed_roundabout[i] == 9) or (passed_roundabout[i] == 10):\n",
    "         sum_speed += speed[i]\n",
    "         count += 1\n",
    "   \n",
    "   return sum_speed, count\n",
    "\n",
    "def sum_speed_in(df):\n",
    "   sum_speed = 0\n",
    "   count = 0\n",
    "\n",
    "   for i in range(0, len(df[\"Speed\"])):\n",
    "      passed_roundabout = df[\"Circus entry\"]\n",
    "      speed = df[\"Speed\"]\n",
    "      if (passed_roundabout[i] == 1) or (passed_roundabout[i] == 2) or (passed_roundabout[i] == 3) or (passed_roundabout[i] == 4) or (passed_roundabout[i] == 5) or (passed_roundabout[i] == 6 ) or (passed_roundabout[i] == 7) or (passed_roundabout[i] == 8) or (passed_roundabout[i] == 9) or (passed_roundabout[i] == 10):\n",
    "         sum_speed += speed[i]\n",
    "         count += 1\n",
    "   \n",
    "   return sum_speed, count\n",
    "\n",
    "\n",
    "def sum_speed_cross(df):\n",
    "   sum_speed = 0\n",
    "   count = 0\n",
    "\n",
    "   for i in range(0, len(df[\"Speed\"])):\n",
    "      passed_cross = df[\"Crosswalk entry\"]\n",
    "      speed = df[\"Speed\"]\n",
    "      if (passed_cross[i] == 1) or (passed_cross[i] == 2) or (passed_cross[i] == 3) or (passed_cross[i] == 4) or (passed_cross[i] == 5) or (passed_cross[i] == 6):\n",
    "         sum_speed += speed[i]\n",
    "         count += 1\n",
    "   \n",
    "   return sum_speed, count\n",
    "\n",
    "# ---------------------------------------------------------------- Tramf ----------------------------------------------------------------\n",
    "\n",
    "def trapmf(x, points):\n",
    "    pointA = points[0]\n",
    "    pointB = points[1]\n",
    "    pointC = points[2]\n",
    "    pointD = points[3]\n",
    "    slopeAB = getSlope(pointA, 0, pointB, 1)\n",
    "    slopeCD = getSlope(pointC, 1, pointD, 0)\n",
    "    yInterceptAB = getYIntercept(pointA, 0, pointB, 1)\n",
    "    yInterceptCD = getYIntercept(pointC, 1, pointD, 0)\n",
    "    result = 0\n",
    "    if x > pointA and x < pointB:\n",
    "        result = slopeAB * x + yInterceptAB\n",
    "    elif x >= pointB and x <= pointC:\n",
    "        result = 1\n",
    "    elif x > pointC and x < pointD:\n",
    "        result = slopeCD * x + yInterceptCD\n",
    "    return result\n",
    "\n",
    "# ---------------------------------------------------------------- Trimf ----------------------------------------------------------------\n",
    "\n",
    "def trimf(x, points): \n",
    "    pointA = points[0]\n",
    "    pointB = points[1]\n",
    "    pointC = points[2]\n",
    "    slopeAB = getSlope(pointA, 0, pointB, 1)\n",
    "    slopeBC = getSlope(pointB, 1, pointC, 0)\n",
    "    result = 0\n",
    "    if x >= pointA and x <= pointB:\n",
    "        result = slopeAB * x + getYIntercept(pointA, 0, pointB, 1)\n",
    "    elif x >= pointB and x <= pointC:\n",
    "        result = slopeBC * x + getYIntercept(pointB, 1, pointC, 0)\n",
    "    return result\n",
    "    "
   ]
  },
  {
   "cell_type": "code",
   "execution_count": 25,
   "id": "3270b719",
   "metadata": {},
   "outputs": [
    {
     "name": "stdout",
     "output_type": "stream",
     "text": [
      "\n",
      "\n",
      "\n",
      "[[ 16  31 125]\n",
      " [ 17  43 145]\n",
      " [ 27  44 146]\n",
      " [ 29  48 153]\n",
      " [ 29  51 156]\n",
      " [ 30  52 167]\n",
      " [ 33  54 182]\n",
      " [ 35  55 202]\n",
      " [ 43  57 203]\n",
      " [ 44  59 238]\n",
      " [ 10   8 190]\n",
      " [ 14  10 194]\n",
      " [ 14  12 195]\n",
      " [ 15  12 201]\n",
      " [ 15  14 203]\n",
      " [ 16  14 204]\n",
      " [ 16  14 229]\n",
      " [ 16  15 242]\n",
      " [ 16  15 251]\n",
      " [ 17  16 264]\n",
      " [ 17  17 315]\n",
      " [ 19  17 381]\n",
      " [ 10   7 209]\n",
      " [ 12  10 215]\n",
      " [ 14  11 271]\n",
      " [ 14  12 300]\n",
      " [ 14  13 304]\n",
      " [ 15  15 307]\n",
      " [ 16  16 345]\n",
      " [ 16  22 379]]\n",
      "[[ 15.85714286  16.         333.        ]\n",
      " [ 28.77777778  48.33333333 164.33333333]\n",
      " [ 16.35714286  15.5        221.85714286]]\n",
      "[[208.54021292825817, 44.84224749601463, 98.09018133059695], [189.9323724972891, 23.25807970587726, 81.63138902082574], [189.41267979020338, 18.922192862246455, 81.73020574189353], [183.29412072916455, 11.340411732896023, 77.18418205295482], [180.90531969479935, 8.752424708136918, 75.87657808599975], [170.44653240287192, 4.695677024247857, 67.28806486643369], [156.64889897800242, 19.027595295150885, 57.86040555174363], [138.0161185499427, 38.75484836255892, 47.98033185481275], [138.9882537982169, 42.100995560206066, 52.79851961437355], [108.0093533364739, 75.9754671255022, 54.00897506669703], [143.34331558342362, 51.36302652518793, 33.33977828850292], [139.1418304450241, 50.67482877726314, 28.49256974392175], [138.07044933508342, 49.7889372411677, 27.186618857407765], [132.06337377894582, 53.426423388145494, 21.19226851703138], [130.01820908579518, 53.51369964207962, 18.9653281930313], [129.0155820362923, 53.995313011042825, 17.92359065703121], [104.01932708955228, 74.32245394558647, 7.307390723348068], [91.0056064655539, 85.47803125458897, 20.15222679750203], [82.00622176495675, 93.73096514578567, 29.149334014165532], [69.00946400638813, 105.44005376644873, 42.15072565768456], [18.063945373283754, 154.3403326146634, 93.15715271540246], [48.11317440182479, 219.1388307911079, 159.1718683482398], [124.4640756300748, 63.687993325486055, 16.67241397503979], [118.21538627023307, 65.7118663767515, 9.810968455805796], [62.22900432749858, 113.97341037103755, 49.40472174410301], [33.293377413411164, 141.22300900209189, 78.25670734766419], [29.21384910606332, 144.8226672115646, 82.21468908924254], [26.033338123981544, 147.15541461116104, 85.15514053293361], [12.000850310009925, 183.98141344664995, 123.14439011309662], [46.389873983050066, 216.65293403773805, 157.27763700552222]]\n",
      "[1, 1, 1, 1, 1, 1, 1, 1, 1, 2, 2, 2, 2, 2, 2, 2, 2, 2, 2, 2, 0, 0, 2, 2, 2, 0, 0, 0, 0, 0]\n",
      "[0 0 0 0 0 0 0 2 2 2 2 2 2 2 2 2 1 1 1 1 1 1 1 1 1 1 1 1 1 1]\n"
     ]
    },
    {
     "name": "stderr",
     "output_type": "stream",
     "text": [
      "/Users/pinto/miniconda3/lib/python3.10/site-packages/sklearn/cluster/_kmeans.py:1416: FutureWarning:\n",
      "\n",
      "The default value of `n_init` will change from 10 to 'auto' in 1.4. Set the value of `n_init` explicitly to suppress the warning\n",
      "\n",
      "/Users/pinto/miniconda3/lib/python3.10/site-packages/sklearn/cluster/_kmeans.py:1416: FutureWarning:\n",
      "\n",
      "The default value of `n_init` will change from 10 to 'auto' in 1.4. Set the value of `n_init` explicitly to suppress the warning\n",
      "\n"
     ]
    },
    {
     "data": {
      "image/png": "[encoded data removed]",
      "text/plain": [
       "<Figure size 640x480 with 1 Axes>"
      ]
     },
     "metadata": {},
     "output_type": "display_data"
    },
    {
     "data": {
      "image/png": "[encoded data removed]",
      "text/plain": [
       "<Figure size 640x480 with 1 Axes>"
      ]
     },
     "metadata": {},
     "output_type": "display_data"
    },
    {
     "name": "stderr",
     "output_type": "stream",
     "text": [
      "/Users/pinto/miniconda3/lib/python3.10/site-packages/sklearn/cluster/_kmeans.py:1416: FutureWarning:\n",
      "\n",
      "The default value of `n_init` will change from 10 to 'auto' in 1.4. Set the value of `n_init` explicitly to suppress the warning\n",
      "\n"
     ]
    },
    {
     "data": {
      "application/vnd.plotly.v1+json": {
       "config": {
        "plotlyServerURL": "https://plot.ly"
       },
       "data": [
        {
         "marker": {
          "color": [
           0,
           0,
           0,
           0,
           0,
           0,
           0,
           2,
           2,
           2,
           2,
           2,
           2,
           2,
           2,
           2,
           1,
           1,
           1,
           1,
           1,
           1,
           1,
           1,
           1,
           1,
           1,
           1,
           1,
           1
          ],
          "colorscale": [
           [
            0,
            "#440154"
           ],
           [
            0.1111111111111111,
            "#482878"
           ],
           [
            0.2222222222222222,
            "#3e4989"
           ],
           [
            0.3333333333333333,
            "#31688e"
           ],
           [
            0.4444444444444444,
            "#26828e"
           ],
           [
            0.5555555555555556,
            "#1f9e89"
           ],
           [
            0.6666666666666666,
            "#35b779"
           ],
           [
            0.7777777777777778,
            "#6ece58"
           ],
           [
            0.8888888888888888,
            "#b5de2b"
           ],
           [
            1,
            "#fde725"
           ]
          ],
          "opacity": 0.8,
          "size": 5
         },
         "mode": "markers",
         "type": "scatter3d",
         "x": [
          17,
          19,
          14,
          14,
          15,
          16,
          16,
          16,
          17,
          27,
          29,
          29,
          30,
          33,
          35,
          43,
          44,
          10,
          14,
          14,
          15,
          15,
          16,
          16,
          16,
          16,
          17,
          10,
          12,
          14
         ],
         "y": [
          17,
          17,
          12,
          13,
          15,
          16,
          22,
          31,
          43,
          44,
          48,
          51,
          52,
          54,
          55,
          57,
          59,
          8,
          10,
          12,
          12,
          14,
          14,
          14,
          15,
          15,
          16,
          7,
          10,
          11
         ],
         "z": [
          315,
          381,
          300,
          304,
          307,
          345,
          379,
          125,
          145,
          146,
          153,
          156,
          167,
          182,
          202,
          203,
          238,
          190,
          194,
          195,
          201,
          203,
          204,
          229,
          242,
          251,
          264,
          209,
          215,
          271
         ]
        }
       ],
       "layout": {
        "autosize": true,
        "scene": {
         "aspectmode": "auto",
         "aspectratio": {
          "x": 1,
          "y": 1,
          "z": 1
         },
         "xaxis": {
          "title": {
           "text": "Feature 1"
          },
          "type": "linear"
         },
         "yaxis": {
          "title": {
           "text": "Feature 2"
          },
          "type": "linear"
         },
         "zaxis": {
          "title": {
           "text": "Feature 3"
          },
          "type": "linear"
         }
        },
        "template": {
         "data": {
          "bar": [
           {
            "error_x": {
             "color": "#2a3f5f"
            },
            "error_y": {
             "color": "#2a3f5f"
            },
            "marker": {
             "line": {
              "color": "#E5ECF6",
              "width": 0.5
             },
             "pattern": {
              "fillmode": "overlay",
              "size": 10,
              "solidity": 0.2
             }
            },
            "type": "bar"
           }
          ],
          "barpolar": [
           {
            "marker": {
             "line": {
              "color": "#E5ECF6",
              "width": 0.5
             },
             "pattern": {
              "fillmode": "overlay",
              "size": 10,
              "solidity": 0.2
             }
            },
            "type": "barpolar"
           }
          ],
          "carpet": [
           {
            "aaxis": {
             "endlinecolor": "#2a3f5f",
             "gridcolor": "white",
             "linecolor": "white",
             "minorgridcolor": "white",
             "startlinecolor": "#2a3f5f"
            },
            "baxis": {
             "endlinecolor": "#2a3f5f",
             "gridcolor": "white",
             "linecolor": "white",
             "minorgridcolor": "white",
             "startlinecolor": "#2a3f5f"
            },
            "type": "carpet"
           }
          ],
          "choropleth": [
           {
            "colorbar": {
             "outlinewidth": 0,
             "ticks": ""
            },
            "type": "choropleth"
           }
          ],
          "contour": [
           {
            "colorbar": {
             "outlinewidth": 0,
             "ticks": ""
            },
            "colorscale": [
             [
              0,
              "#0d0887"
             ],
             [
              0.1111111111111111,
              "#46039f"
             ],
             [
              0.2222222222222222,
              "#7201a8"
             ],
             [
              0.3333333333333333,
              "#9c179e"
             ],
             [
              0.4444444444444444,
              "#bd3786"
             ],
             [
              0.5555555555555556,
              "#d8576b"
             ],
             [
              0.6666666666666666,
              "#ed7953"
             ],
             [
              0.7777777777777778,
              "#fb9f3a"
             ],
             [
              0.8888888888888888,
              "#fdca26"
             ],
             [
              1,
              "#f0f921"
             ]
            ],
            "type": "contour"
           }
          ],
          "contourcarpet": [
           {
            "colorbar": {
             "outlinewidth": 0,
             "ticks": ""
            },
            "type": "contourcarpet"
           }
          ],
          "heatmap": [
           {
            "colorbar": {
             "outlinewidth": 0,
             "ticks": ""
            },
            "colorscale": [
             [
              0,
              "#0d0887"
             ],
             [
              0.1111111111111111,
              "#46039f"
             ],
             [
              0.2222222222222222,
              "#7201a8"
             ],
             [
              0.3333333333333333,
              "#9c179e"
             ],
             [
              0.4444444444444444,
              "#bd3786"
             ],
             [
              0.5555555555555556,
              "#d8576b"
             ],
             [
              0.6666666666666666,
              "#ed7953"
             ],
             [
              0.7777777777777778,
              "#fb9f3a"
             ],
             [
              0.8888888888888888,
              "#fdca26"
             ],
             [
              1,
              "#f0f921"
             ]
            ],
            "type": "heatmap"
           }
          ],
          "heatmapgl": [
           {
            "colorbar": {
             "outlinewidth": 0,
             "ticks": ""
            },
            "colorscale": [
             [
              0,
              "#0d0887"
             ],
             [
              0.1111111111111111,
              "#46039f"
             ],
             [
              0.2222222222222222,
              "#7201a8"
             ],
             [
              0.3333333333333333,
              "#9c179e"
             ],
             [
              0.4444444444444444,
              "#bd3786"
             ],
             [
              0.5555555555555556,
              "#d8576b"
             ],
             [
              0.6666666666666666,
              "#ed7953"
             ],
             [
              0.7777777777777778,
              "#fb9f3a"
             ],
             [
              0.8888888888888888,
              "#fdca26"
             ],
             [
              1,
              "#f0f921"
             ]
            ],
            "type": "heatmapgl"
           }
          ],
          "histogram": [
           {
            "marker": {
             "pattern": {
              "fillmode": "overlay",
              "size": 10,
              "solidity": 0.2
             }
            },
            "type": "histogram"
           }
          ],
          "histogram2d": [
           {
            "colorbar": {
             "outlinewidth": 0,
             "ticks": ""
            },
            "colorscale": [
             [
              0,
              "#0d0887"
             ],
             [
              0.1111111111111111,
              "#46039f"
             ],
             [
              0.2222222222222222,
              "#7201a8"
             ],
             [
              0.3333333333333333,
              "#9c179e"
             ],
             [
              0.4444444444444444,
              "#bd3786"
             ],
             [
              0.5555555555555556,
              "#d8576b"
             ],
             [
              0.6666666666666666,
              "#ed7953"
             ],
             [
              0.7777777777777778,
              "#fb9f3a"
             ],
             [
              0.8888888888888888,
              "#fdca26"
             ],
             [
              1,
              "#f0f921"
             ]
            ],
            "type": "histogram2d"
           }
          ],
          "histogram2dcontour": [
           {
            "colorbar": {
             "outlinewidth": 0,
             "ticks": ""
            },
            "colorscale": [
             [
              0,
              "#0d0887"
             ],
             [
              0.1111111111111111,
              "#46039f"
             ],
             [
              0.2222222222222222,
              "#7201a8"
             ],
             [
              0.3333333333333333,
              "#9c179e"
             ],
             [
              0.4444444444444444,
              "#bd3786"
             ],
             [
              0.5555555555555556,
              "#d8576b"
             ],
             [
              0.6666666666666666,
              "#ed7953"
             ],
             [
              0.7777777777777778,
              "#fb9f3a"
             ],
             [
              0.8888888888888888,
              "#fdca26"
             ],
             [
              1,
              "#f0f921"
             ]
            ],
            "type": "histogram2dcontour"
           }
          ],
          "mesh3d": [
           {
            "colorbar": {
             "outlinewidth": 0,
             "ticks": ""
            },
            "type": "mesh3d"
           }
          ],
          "parcoords": [
           {
            "line": {
             "colorbar": {
              "outlinewidth": 0,
              "ticks": ""
             }
            },
            "type": "parcoords"
           }
          ],
          "pie": [
           {
            "automargin": true,
            "type": "pie"
           }
          ],
          "scatter": [
           {
            "fillpattern": {
             "fillmode": "overlay",
             "size": 10,
             "solidity": 0.2
            },
            "type": "scatter"
           }
          ],
          "scatter3d": [
           {
            "line": {
             "colorbar": {
              "outlinewidth": 0,
              "ticks": ""
             }
            },
            "marker": {
             "colorbar": {
              "outlinewidth": 0,
              "ticks": ""
             }
            },
            "type": "scatter3d"
           }
          ],
          "scattercarpet": [
           {
            "marker": {
             "colorbar": {
              "outlinewidth": 0,
              "ticks": ""
             }
            },
            "type": "scattercarpet"
           }
          ],
          "scattergeo": [
           {
            "marker": {
             "colorbar": {
              "outlinewidth": 0,
              "ticks": ""
             }
            },
            "type": "scattergeo"
           }
          ],
          "scattergl": [
           {
            "marker": {
             "colorbar": {
              "outlinewidth": 0,
              "ticks": ""
             }
            },
            "type": "scattergl"
           }
          ],
          "scattermapbox": [
           {
            "marker": {
             "colorbar": {
              "outlinewidth": 0,
              "ticks": ""
             }
            },
            "type": "scattermapbox"
           }
          ],
          "scatterpolar": [
           {
            "marker": {
             "colorbar": {
              "outlinewidth": 0,
              "ticks": ""
             }
            },
            "type": "scatterpolar"
           }
          ],
          "scatterpolargl": [
           {
            "marker": {
             "colorbar": {
              "outlinewidth": 0,
              "ticks": ""
             }
            },
            "type": "scatterpolargl"
           }
          ],
          "scatterternary": [
           {
            "marker": {
             "colorbar": {
              "outlinewidth": 0,
              "ticks": ""
             }
            },
            "type": "scatterternary"
           }
          ],
          "surface": [
           {
            "colorbar": {
             "outlinewidth": 0,
             "ticks": ""
            },
            "colorscale": [
             [
              0,
              "#0d0887"
             ],
             [
              0.1111111111111111,
              "#46039f"
             ],
             [
              0.2222222222222222,
              "#7201a8"
             ],
             [
              0.3333333333333333,
              "#9c179e"
             ],
             [
              0.4444444444444444,
              "#bd3786"
             ],
             [
              0.5555555555555556,
              "#d8576b"
             ],
             [
              0.6666666666666666,
              "#ed7953"
             ],
             [
              0.7777777777777778,
              "#fb9f3a"
             ],
             [
              0.8888888888888888,
              "#fdca26"
             ],
             [
              1,
              "#f0f921"
             ]
            ],
            "type": "surface"
           }
          ],
          "table": [
           {
            "cells": {
             "fill": {
              "color": "#EBF0F8"
             },
             "line": {
              "color": "white"
             }
            },
            "header": {
             "fill": {
              "color": "#C8D4E3"
             },
             "line": {
              "color": "white"
             }
            },
            "type": "table"
           }
          ]
         },
         "layout": {
          "annotationdefaults": {
           "arrowcolor": "#2a3f5f",
           "arrowhead": 0,
           "arrowwidth": 1
          },
          "autotypenumbers": "strict",
          "coloraxis": {
           "colorbar": {
            "outlinewidth": 0,
            "ticks": ""
           }
          },
          "colorscale": {
           "diverging": [
            [
             0,
             "#8e0152"
            ],
            [
             0.1,
             "#c51b7d"
            ],
            [
             0.2,
             "#de77ae"
            ],
            [
             0.3,
             "#f1b6da"
            ],
            [
             0.4,
             "#fde0ef"
            ],
            [
             0.5,
             "#f7f7f7"
            ],
            [
             0.6,
             "#e6f5d0"
            ],
            [
             0.7,
             "#b8e186"
            ],
            [
             0.8,
             "#7fbc41"
            ],
            [
             0.9,
             "#4d9221"
            ],
            [
             1,
             "#276419"
            ]
           ],
           "sequential": [
            [
             0,
             "#0d0887"
            ],
            [
             0.1111111111111111,
             "#46039f"
            ],
            [
             0.2222222222222222,
             "#7201a8"
            ],
            [
             0.3333333333333333,
             "#9c179e"
            ],
            [
             0.4444444444444444,
             "#bd3786"
            ],
            [
             0.5555555555555556,
             "#d8576b"
            ],
            [
             0.6666666666666666,
             "#ed7953"
            ],
            [
             0.7777777777777778,
             "#fb9f3a"
            ],
            [
             0.8888888888888888,
             "#fdca26"
            ],
            [
             1,
             "#f0f921"
            ]
           ],
           "sequentialminus": [
            [
             0,
             "#0d0887"
            ],
            [
             0.1111111111111111,
             "#46039f"
            ],
            [
             0.2222222222222222,
             "#7201a8"
            ],
            [
             0.3333333333333333,
             "#9c179e"
            ],
            [
             0.4444444444444444,
             "#bd3786"
            ],
            [
             0.5555555555555556,
             "#d8576b"
            ],
            [
             0.6666666666666666,
             "#ed7953"
            ],
            [
             0.7777777777777778,
             "#fb9f3a"
            ],
            [
             0.8888888888888888,
             "#fdca26"
            ],
            [
             1,
             "#f0f921"
            ]
           ]
          },
          "colorway": [
           "#636efa",
           "#EF553B",
           "#00cc96",
           "#ab63fa",
           "#FFA15A",
           "#19d3f3",
           "#FF6692",
           "#B6E880",
           "#FF97FF",
           "#FECB52"
          ],
          "font": {
           "color": "#2a3f5f"
          },
          "geo": {
           "bgcolor": "white",
           "lakecolor": "white",
           "landcolor": "#E5ECF6",
           "showlakes": true,
           "showland": true,
           "subunitcolor": "white"
          },
          "hoverlabel": {
           "align": "left"
          },
          "hovermode": "closest",
          "mapbox": {
           "style": "light"
          },
          "paper_bgcolor": "white",
          "plot_bgcolor": "#E5ECF6",
          "polar": {
           "angularaxis": {
            "gridcolor": "white",
            "linecolor": "white",
            "ticks": ""
           },
           "bgcolor": "#E5ECF6",
           "radialaxis": {
            "gridcolor": "white",
            "linecolor": "white",
            "ticks": ""
           }
          },
          "scene": {
           "xaxis": {
            "backgroundcolor": "#E5ECF6",
            "gridcolor": "white",
            "gridwidth": 2,
            "linecolor": "white",
            "showbackground": true,
            "ticks": "",
            "zerolinecolor": "white"
           },
           "yaxis": {
            "backgroundcolor": "#E5ECF6",
            "gridcolor": "white",
            "gridwidth": 2,
            "linecolor": "white",
            "showbackground": true,
            "ticks": "",
            "zerolinecolor": "white"
           },
           "zaxis": {
            "backgroundcolor": "#E5ECF6",
            "gridcolor": "white",
            "gridwidth": 2,
            "linecolor": "white",
            "showbackground": true,
            "ticks": "",
            "zerolinecolor": "white"
           }
          },
          "shapedefaults": {
           "line": {
            "color": "#2a3f5f"
           }
          },
          "ternary": {
           "aaxis": {
            "gridcolor": "white",
            "linecolor": "white",
            "ticks": ""
           },
           "baxis": {
            "gridcolor": "white",
            "linecolor": "white",
            "ticks": ""
           },
           "bgcolor": "#E5ECF6",
           "caxis": {
            "gridcolor": "white",
            "linecolor": "white",
            "ticks": ""
           }
          },
          "title": {
           "x": 0.05
          },
          "xaxis": {
           "automargin": true,
           "gridcolor": "white",
           "linecolor": "white",
           "ticks": "",
           "title": {
            "standoff": 15
           },
           "zerolinecolor": "white",
           "zerolinewidth": 2
          },
          "yaxis": {
           "automargin": true,
           "gridcolor": "white",
           "linecolor": "white",
           "ticks": "",
           "title": {
            "standoff": 15
           },
           "zerolinecolor": "white",
           "zerolinewidth": 2
          }
         }
        },
        "title": {
         "text": "K-Means Clustering of Data Points"
        }
       }
      },
      "image/png": "[encoded data removed]",
      "text/html": [
       "<div>                            <div id=\"ac485d69-8712-48fa-b5f7-7f5a0bf21648\" class=\"plotly-graph-div\" style=\"height:525px; width:100%;\"></div>            <script type=\"text/javascript\">                require([\"plotly\"], function(Plotly) {                    window.PLOTLYENV=window.PLOTLYENV || {};                                    if (document.getElementById(\"ac485d69-8712-48fa-b5f7-7f5a0bf21648\")) {                    Plotly.newPlot(                        \"ac485d69-8712-48fa-b5f7-7f5a0bf21648\",                        [{\"marker\":{\"color\":[0,0,0,0,0,0,0,2,2,2,2,2,2,2,2,2,1,1,1,1,1,1,1,1,1,1,1,1,1,1],\"colorscale\":[[0.0,\"#440154\"],[0.1111111111111111,\"#482878\"],[0.2222222222222222,\"#3e4989\"],[0.3333333333333333,\"#31688e\"],[0.4444444444444444,\"#26828e\"],[0.5555555555555556,\"#1f9e89\"],[0.6666666666666666,\"#35b779\"],[0.7777777777777778,\"#6ece58\"],[0.8888888888888888,\"#b5de2b\"],[1.0,\"#fde725\"]],\"opacity\":0.8,\"size\":5},\"mode\":\"markers\",\"x\":[17,19,14,14,15,16,16,16,17,27,29,29,30,33,35,43,44,10,14,14,15,15,16,16,16,16,17,10,12,14],\"y\":[17,17,12,13,15,16,22,31,43,44,48,51,52,54,55,57,59,8,10,12,12,14,14,14,15,15,16,7,10,11],\"z\":[315,381,300,304,307,345,379,125,145,146,153,156,167,182,202,203,238,190,194,195,201,203,204,229,242,251,264,209,215,271],\"type\":\"scatter3d\"}],                        {\"scene\":{\"xaxis\":{\"title\":{\"text\":\"Feature 1\"}},\"yaxis\":{\"title\":{\"text\":\"Feature 2\"}},\"zaxis\":{\"title\":{\"text\":\"Feature 3\"}}},\"title\":{\"text\":\"K-Means Clustering of Data Points\"},\"template\":{\"data\":{\"histogram2dcontour\":[{\"type\":\"histogram2dcontour\",\"colorbar\":{\"outlinewidth\":0,\"ticks\":\"\"},\"colorscale\":[[0.0,\"#0d0887\"],[0.1111111111111111,\"#46039f\"],[0.2222222222222222,\"#7201a8\"],[0.3333333333333333,\"#9c179e\"],[0.4444444444444444,\"#bd3786\"],[0.5555555555555556,\"#d8576b\"],[0.6666666666666666,\"#ed7953\"],[0.7777777777777778,\"#fb9f3a\"],[0.8888888888888888,\"#fdca26\"],[1.0,\"#f0f921\"]]}],\"choropleth\":[{\"type\":\"choropleth\",\"colorbar\":{\"outlinewidth\":0,\"ticks\":\"\"}}],\"histogram2d\":[{\"type\":\"histogram2d\",\"colorbar\":{\"outlinewidth\":0,\"ticks\":\"\"},\"colorscale\":[[0.0,\"#0d0887\"],[0.1111111111111111,\"#46039f\"],[0.2222222222222222,\"#7201a8\"],[0.3333333333333333,\"#9c179e\"],[0.4444444444444444,\"#bd3786\"],[0.5555555555555556,\"#d8576b\"],[0.6666666666666666,\"#ed7953\"],[0.7777777777777778,\"#fb9f3a\"],[0.8888888888888888,\"#fdca26\"],[1.0,\"#f0f921\"]]}],\"heatmap\":[{\"type\":\"heatmap\",\"colorbar\":{\"outlinewidth\":0,\"ticks\":\"\"},\"colorscale\":[[0.0,\"#0d0887\"],[0.1111111111111111,\"#46039f\"],[0.2222222222222222,\"#7201a8\"],[0.3333333333333333,\"#9c179e\"],[0.4444444444444444,\"#bd3786\"],[0.5555555555555556,\"#d8576b\"],[0.6666666666666666,\"#ed7953\"],[0.7777777777777778,\"#fb9f3a\"],[0.8888888888888888,\"#fdca26\"],[1.0,\"#f0f921\"]]}],\"heatmapgl\":[{\"type\":\"heatmapgl\",\"colorbar\":{\"outlinewidth\":0,\"ticks\":\"\"},\"colorscale\":[[0.0,\"#0d0887\"],[0.1111111111111111,\"#46039f\"],[0.2222222222222222,\"#7201a8\"],[0.3333333333333333,\"#9c179e\"],[0.4444444444444444,\"#bd3786\"],[0.5555555555555556,\"#d8576b\"],[0.6666666666666666,\"#ed7953\"],[0.7777777777777778,\"#fb9f3a\"],[0.8888888888888888,\"#fdca26\"],[1.0,\"#f0f921\"]]}],\"contourcarpet\":[{\"type\":\"contourcarpet\",\"colorbar\":{\"outlinewidth\":0,\"ticks\":\"\"}}],\"contour\":[{\"type\":\"contour\",\"colorbar\":{\"outlinewidth\":0,\"ticks\":\"\"},\"colorscale\":[[0.0,\"#0d0887\"],[0.1111111111111111,\"#46039f\"],[0.2222222222222222,\"#7201a8\"],[0.3333333333333333,\"#9c179e\"],[0.4444444444444444,\"#bd3786\"],[0.5555555555555556,\"#d8576b\"],[0.6666666666666666,\"#ed7953\"],[0.7777777777777778,\"#fb9f3a\"],[0.8888888888888888,\"#fdca26\"],[1.0,\"#f0f921\"]]}],\"surface\":[{\"type\":\"surface\",\"colorbar\":{\"outlinewidth\":0,\"ticks\":\"\"},\"colorscale\":[[0.0,\"#0d0887\"],[0.1111111111111111,\"#46039f\"],[0.2222222222222222,\"#7201a8\"],[0.3333333333333333,\"#9c179e\"],[0.4444444444444444,\"#bd3786\"],[0.5555555555555556,\"#d8576b\"],[0.6666666666666666,\"#ed7953\"],[0.7777777777777778,\"#fb9f3a\"],[0.8888888888888888,\"#fdca26\"],[1.0,\"#f0f921\"]]}],\"mesh3d\":[{\"type\":\"mesh3d\",\"colorbar\":{\"outlinewidth\":0,\"ticks\":\"\"}}],\"scatter\":[{\"fillpattern\":{\"fillmode\":\"overlay\",\"size\":10,\"solidity\":0.2},\"type\":\"scatter\"}],\"parcoords\":[{\"type\":\"parcoords\",\"line\":{\"colorbar\":{\"outlinewidth\":0,\"ticks\":\"\"}}}],\"scatterpolargl\":[{\"type\":\"scatterpolargl\",\"marker\":{\"colorbar\":{\"outlinewidth\":0,\"ticks\":\"\"}}}],\"bar\":[{\"error_x\":{\"color\":\"#2a3f5f\"},\"error_y\":{\"color\":\"#2a3f5f\"},\"marker\":{\"line\":{\"color\":\"#E5ECF6\",\"width\":0.5},\"pattern\":{\"fillmode\":\"overlay\",\"size\":10,\"solidity\":0.2}},\"type\":\"bar\"}],\"scattergeo\":[{\"type\":\"scattergeo\",\"marker\":{\"colorbar\":{\"outlinewidth\":0,\"ticks\":\"\"}}}],\"scatterpolar\":[{\"type\":\"scatterpolar\",\"marker\":{\"colorbar\":{\"outlinewidth\":0,\"ticks\":\"\"}}}],\"histogram\":[{\"marker\":{\"pattern\":{\"fillmode\":\"overlay\",\"size\":10,\"solidity\":0.2}},\"type\":\"histogram\"}],\"scattergl\":[{\"type\":\"scattergl\",\"marker\":{\"colorbar\":{\"outlinewidth\":0,\"ticks\":\"\"}}}],\"scatter3d\":[{\"type\":\"scatter3d\",\"line\":{\"colorbar\":{\"outlinewidth\":0,\"ticks\":\"\"}},\"marker\":{\"colorbar\":{\"outlinewidth\":0,\"ticks\":\"\"}}}],\"scattermapbox\":[{\"type\":\"scattermapbox\",\"marker\":{\"colorbar\":{\"outlinewidth\":0,\"ticks\":\"\"}}}],\"scatterternary\":[{\"type\":\"scatterternary\",\"marker\":{\"colorbar\":{\"outlinewidth\":0,\"ticks\":\"\"}}}],\"scattercarpet\":[{\"type\":\"scattercarpet\",\"marker\":{\"colorbar\":{\"outlinewidth\":0,\"ticks\":\"\"}}}],\"carpet\":[{\"aaxis\":{\"endlinecolor\":\"#2a3f5f\",\"gridcolor\":\"white\",\"linecolor\":\"white\",\"minorgridcolor\":\"white\",\"startlinecolor\":\"#2a3f5f\"},\"baxis\":{\"endlinecolor\":\"#2a3f5f\",\"gridcolor\":\"white\",\"linecolor\":\"white\",\"minorgridcolor\":\"white\",\"startlinecolor\":\"#2a3f5f\"},\"type\":\"carpet\"}],\"table\":[{\"cells\":{\"fill\":{\"color\":\"#EBF0F8\"},\"line\":{\"color\":\"white\"}},\"header\":{\"fill\":{\"color\":\"#C8D4E3\"},\"line\":{\"color\":\"white\"}},\"type\":\"table\"}],\"barpolar\":[{\"marker\":{\"line\":{\"color\":\"#E5ECF6\",\"width\":0.5},\"pattern\":{\"fillmode\":\"overlay\",\"size\":10,\"solidity\":0.2}},\"type\":\"barpolar\"}],\"pie\":[{\"automargin\":true,\"type\":\"pie\"}]},\"layout\":{\"autotypenumbers\":\"strict\",\"colorway\":[\"#636efa\",\"#EF553B\",\"#00cc96\",\"#ab63fa\",\"#FFA15A\",\"#19d3f3\",\"#FF6692\",\"#B6E880\",\"#FF97FF\",\"#FECB52\"],\"font\":{\"color\":\"#2a3f5f\"},\"hovermode\":\"closest\",\"hoverlabel\":{\"align\":\"left\"},\"paper_bgcolor\":\"white\",\"plot_bgcolor\":\"#E5ECF6\",\"polar\":{\"bgcolor\":\"#E5ECF6\",\"angularaxis\":{\"gridcolor\":\"white\",\"linecolor\":\"white\",\"ticks\":\"\"},\"radialaxis\":{\"gridcolor\":\"white\",\"linecolor\":\"white\",\"ticks\":\"\"}},\"ternary\":{\"bgcolor\":\"#E5ECF6\",\"aaxis\":{\"gridcolor\":\"white\",\"linecolor\":\"white\",\"ticks\":\"\"},\"baxis\":{\"gridcolor\":\"white\",\"linecolor\":\"white\",\"ticks\":\"\"},\"caxis\":{\"gridcolor\":\"white\",\"linecolor\":\"white\",\"ticks\":\"\"}},\"coloraxis\":{\"colorbar\":{\"outlinewidth\":0,\"ticks\":\"\"}},\"colorscale\":{\"sequential\":[[0.0,\"#0d0887\"],[0.1111111111111111,\"#46039f\"],[0.2222222222222222,\"#7201a8\"],[0.3333333333333333,\"#9c179e\"],[0.4444444444444444,\"#bd3786\"],[0.5555555555555556,\"#d8576b\"],[0.6666666666666666,\"#ed7953\"],[0.7777777777777778,\"#fb9f3a\"],[0.8888888888888888,\"#fdca26\"],[1.0,\"#f0f921\"]],\"sequentialminus\":[[0.0,\"#0d0887\"],[0.1111111111111111,\"#46039f\"],[0.2222222222222222,\"#7201a8\"],[0.3333333333333333,\"#9c179e\"],[0.4444444444444444,\"#bd3786\"],[0.5555555555555556,\"#d8576b\"],[0.6666666666666666,\"#ed7953\"],[0.7777777777777778,\"#fb9f3a\"],[0.8888888888888888,\"#fdca26\"],[1.0,\"#f0f921\"]],\"diverging\":[[0,\"#8e0152\"],[0.1,\"#c51b7d\"],[0.2,\"#de77ae\"],[0.3,\"#f1b6da\"],[0.4,\"#fde0ef\"],[0.5,\"#f7f7f7\"],[0.6,\"#e6f5d0\"],[0.7,\"#b8e186\"],[0.8,\"#7fbc41\"],[0.9,\"#4d9221\"],[1,\"#276419\"]]},\"xaxis\":{\"gridcolor\":\"white\",\"linecolor\":\"white\",\"ticks\":\"\",\"title\":{\"standoff\":15},\"zerolinecolor\":\"white\",\"automargin\":true,\"zerolinewidth\":2},\"yaxis\":{\"gridcolor\":\"white\",\"linecolor\":\"white\",\"ticks\":\"\",\"title\":{\"standoff\":15},\"zerolinecolor\":\"white\",\"automargin\":true,\"zerolinewidth\":2},\"scene\":{\"xaxis\":{\"backgroundcolor\":\"#E5ECF6\",\"gridcolor\":\"white\",\"linecolor\":\"white\",\"showbackground\":true,\"ticks\":\"\",\"zerolinecolor\":\"white\",\"gridwidth\":2},\"yaxis\":{\"backgroundcolor\":\"#E5ECF6\",\"gridcolor\":\"white\",\"linecolor\":\"white\",\"showbackground\":true,\"ticks\":\"\",\"zerolinecolor\":\"white\",\"gridwidth\":2},\"zaxis\":{\"backgroundcolor\":\"#E5ECF6\",\"gridcolor\":\"white\",\"linecolor\":\"white\",\"showbackground\":true,\"ticks\":\"\",\"zerolinecolor\":\"white\",\"gridwidth\":2}},\"shapedefaults\":{\"line\":{\"color\":\"#2a3f5f\"}},\"annotationdefaults\":{\"arrowcolor\":\"#2a3f5f\",\"arrowhead\":0,\"arrowwidth\":1},\"geo\":{\"bgcolor\":\"white\",\"landcolor\":\"#E5ECF6\",\"subunitcolor\":\"white\",\"showland\":true,\"showlakes\":true,\"lakecolor\":\"white\"},\"title\":{\"x\":0.05},\"mapbox\":{\"style\":\"light\"}}}},                        {\"responsive\": true}                    ).then(function(){\n",
       "                            \n",
       "var gd = document.getElementById('ac485d69-8712-48fa-b5f7-7f5a0bf21648');\n",
       "var x = new MutationObserver(function (mutations, observer) {{\n",
       "        var display = window.getComputedStyle(gd).display;\n",
       "        if (!display || display === 'none') {{\n",
       "            console.log([gd, 'removed!']);\n",
       "            Plotly.purge(gd);\n",
       "            observer.disconnect();\n",
       "        }}\n",
       "}});\n",
       "\n",
       "// Listen for the removal of the full notebook cells\n",
       "var notebookContainer = gd.closest('#notebook-container');\n",
       "if (notebookContainer) {{\n",
       "    x.observe(notebookContainer, {childList: true});\n",
       "}}\n",
       "\n",
       "// Listen for the clearing of the current output cell\n",
       "var outputEl = gd.closest('.output');\n",
       "if (outputEl) {{\n",
       "    x.observe(outputEl, {childList: true});\n",
       "}}\n",
       "\n",
       "                        })                };                });            </script>        </div>"
      ]
     },
     "metadata": {},
     "output_type": "display_data"
    }
   ],
   "source": [
    "def main():\n",
    "    directory_aggressive = '/Users/pinto/Desktop/Arbeit/emotional/Aggressive'\n",
    "    aggressive_time = []\n",
    "    aggressive_speed_out_list = []\n",
    "    aggressive_speed_cross_list = []\n",
    "\n",
    "    for filename in os.scandir(directory_aggressive):\n",
    "        df = pd.read_csv(filename.path)\n",
    "        aggressive_time.append(time(df))\n",
    "\n",
    "        average_speed_out = sum_speed(df)\n",
    "        average_speed_out1 = average_speed_out[0] / average_speed_out[1]\n",
    "        aggressive_speed_out_list.append(math.ceil(average_speed_out1))\n",
    "        \n",
    "        average_speed_cross = sum_speed_cross(df)\n",
    "        average_speed_cross1 = average_speed_cross[0] / average_speed_cross[1]\n",
    "        aggressive_speed_cross_list.append(math.ceil(average_speed_cross1))\n",
    "\n",
    "\n",
    "    \n",
    "    result_aggressive_time = find_max_min_median(aggressive_time)\n",
    "    result_aggressive_out = find_max_min_median(aggressive_speed_out_list)\n",
    "    result_aggressive_cross = find_max_min_median(aggressive_speed_cross_list)\n",
    "    # print(\"aggressive_time = \", result_aggressive_time)\n",
    "    # print(\"aggressive_out = \", result_aggressive_out)\n",
    "    # print(\"aggressive_cross = \", result_aggressive_cross)\n",
    "    # print(aggressive_speed_cross_list)\n",
    "    # print(aggressive_speed_out_list)\n",
    "    # print(aggressive_time)\n",
    "\n",
    "    \n",
    "    print()\n",
    "\n",
    "    directory_cautious= '/Users/pinto/Desktop/Arbeit/emotional/Cautious'\n",
    "    cautious_time = []\n",
    "    cautious_speed_out_list = []\n",
    "    cautious_speed_cross_list = []\n",
    "    for filename in os.scandir(directory_cautious):\n",
    "        df = pd.read_csv(filename.path)\n",
    "        cautious_time.append(time(df))\n",
    "\n",
    "        average_speed_out = sum_speed(df)\n",
    "        average_speed_out1 = average_speed_out[0] / average_speed_out[1]\n",
    "        cautious_speed_out_list.append(math.ceil(average_speed_out1))\n",
    "\n",
    "        average_speed_cross = sum_speed_cross(df)\n",
    "        average_speed_cross1 = average_speed_cross[0] / average_speed_cross[1]\n",
    "        cautious_speed_cross_list.append(math.ceil(average_speed_cross1))\n",
    "\n",
    "    result_cautious_time = find_max_min_median(cautious_time)\n",
    "    result_cautious_out = find_max_min_median(cautious_speed_out_list)\n",
    "    result_cautious_cross = find_max_min_median(cautious_speed_cross_list)\n",
    "    # print(\"cautious_time\", result_cautious_time)\n",
    "    # print(\"cautious_out\", result_cautious_out)\n",
    "    # print(\"cautious_cross = \", result_cautious_cross)\n",
    "\n",
    "    # print(cautious_speed_cross_list)\n",
    "    # print(cautious_speed_out_list)\n",
    "    # print(cautious_time)\n",
    "    print()\n",
    "\n",
    "    directory_calmly= '/Users/pinto/Desktop/Arbeit/emotional/Calmly'\n",
    "    calmly_time = []\n",
    "    calmly_speed_out_list = []\n",
    "    calmly_speed_cross_list = []\n",
    "    for filename in os.scandir(directory_calmly):\n",
    "        df = pd.read_csv(filename.path)\n",
    "        calmly_time.append(time(df))\n",
    "\n",
    "        average_speed_out = sum_speed(df)\n",
    "        average_speed_out1 = average_speed_out[0] / average_speed_out[1]\n",
    "        calmly_speed_out_list.append(math.ceil(average_speed_out1))\n",
    "\n",
    "        average_speed_cross = sum_speed_cross(df)\n",
    "        average_speed_cross1 = average_speed_cross[0] / average_speed_cross[1]\n",
    "        calmly_speed_cross_list.append(math.ceil(average_speed_cross1))\n",
    "\n",
    "    result_calmly_time = find_max_min_median(calmly_time)\n",
    "    result_calmly_out = find_max_min_median(calmly_speed_out_list)\n",
    "    result_calmly_cross = find_max_min_median(calmly_speed_cross_list)\n",
    "    # print(\"calmly_time = \",result_calmly_time)\n",
    "    # print(\"calmly_out = \",result_calmly_out)\n",
    "    # print(\"calmly_cross = \",result_calmly_cross)\n",
    "        \n",
    "    # print(calmly_speed_cross_list)\n",
    "    # print(calmly_speed_out_list)\n",
    "    # print(calmly_time)\n",
    "    print()\n",
    "\n",
    "    average_aggressive = find_average(aggressive_time)\n",
    "    average_cautious = find_average(cautious_time)\n",
    "    average_calmly = find_average(calmly_time)\n",
    "\n",
    "    average_speed_out_aggressive = find_average(aggressive_speed_out_list)\n",
    "    average_speed_out_cautious = find_average(cautious_speed_out_list)\n",
    "    average_speed_out_calmly = find_average(calmly_speed_out_list)\n",
    "\n",
    "\n",
    "    average_speed_cross_aggressive = find_average(aggressive_speed_cross_list)\n",
    "    average_speed_cross_cautious = find_average(cautious_speed_cross_list)\n",
    "    average_speed_cross_calmly =  find_average(calmly_speed_cross_list)\n",
    "\n",
    "    # print(\"Average aggressive time:\",average_aggressive)\n",
    "    # print(\"Average cautious time:\",average_cautious)\n",
    "    # print(\"Average calmly time:\",average_calmly)\n",
    "\n",
    "    # print(\"Avera Speed out Aggressive\", average_speed_out_aggressive)\n",
    "    # print(\"Avera Speed out Cautious\", average_speed_out_cautious)\n",
    "    # print(\"Average Speed out Calmly\", average_speed_out_calmly)\n",
    "\n",
    "\n",
    "    # print(\"Average Speed cross Aggressive\", average_speed_cross_aggressive)\n",
    "    # print(\"Average Speed cross Cautious\", average_speed_cross_cautious)\n",
    "    # print(\"Average Speed cross Calmly\", average_speed_cross_calmly)\n",
    "\n",
    "    # print()\n",
    "\n",
    "    \n",
    "    X = np.array([\n",
    "        aggressive_speed_out_list + cautious_speed_out_list + calmly_speed_out_list,\n",
    "        aggressive_speed_cross_list + cautious_speed_cross_list + calmly_speed_cross_list,\n",
    "        aggressive_time + cautious_time + calmly_time\n",
    "    ]).T\n",
    "    print(X)\n",
    "\n",
    "    # list_aggressive = []\n",
    "    # list_cautious = []\n",
    "    # list_calmly = []\n",
    "    # labels = []\n",
    "\n",
    "    # for i in range(len(X)):\n",
    "    #     speed_out = X[i][0]\n",
    "    #     speed_cross = X[i][1]\n",
    "    #     final_time = X[i][2]\n",
    "    #     personality = calculate_personality(speed_out, speed_cross, final_time)\n",
    "    #     if (personality == \"Aggressive\"):\n",
    "    #         list_aggressive.append(X[i])\n",
    "    #     elif (personality == \"Cautious\"):\n",
    "    #         list_cautious.append(X[i])\n",
    "    #     else:\n",
    "    #         list_calmly.append(X[i])\n",
    "    \n",
    "    # list_personality.append(list_aggressive)\n",
    "    # list_personality.append(list_cautious)\n",
    "    # list_personality.append(list_calmly)\n",
    "\n",
    "    # print(\"Aggressive:\",list_personality[0])\n",
    "    # print(\"Cautious:\",list_personality[1])\n",
    "    # print(\"Calmly:\",list_personality[0])\n",
    "\n",
    "    \n",
    "    \n",
    "    kmeans = KMeans(n_clusters=3)\n",
    "    kmeans.fit(X)\n",
    "    centroids = kmeans.cluster_centers_\n",
    "    print(centroids)\n",
    "    distances = find_distance(X,centroids)\n",
    "    print(distances)\n",
    "\n",
    "\n",
    "    list_1 = []\n",
    "    list_2 = []\n",
    "    list_3 = []\n",
    "    labels = []\n",
    "\n",
    "    for j in range(len(distances)):\n",
    "        array = distances[j]\n",
    "        min_index = np.argmin(array)\n",
    "        re = X[j]\n",
    "        if (min_index == 0):\n",
    "            list_1.append(re)\n",
    "            labels.append(0)\n",
    "        elif (min_index == 1):\n",
    "            list_2.append(re)\n",
    "            labels.append(1)\n",
    "        else:\n",
    "            list_3.append(re)\n",
    "            labels.append(2)\n",
    "    print(labels)\n",
    "    \n",
    "#---------------------- Create next k mean ------------------\n",
    "    # Flatten the list of data points\n",
    "    #Concatenate the data from all groups\n",
    "\n",
    "    all_data = np.concatenate((list_1, list_2, list_3), axis=0)\n",
    "\n",
    "    # Perform K-Means clustering with 3 clusters\n",
    "    kmeans = KMeans(n_clusters=3, random_state=0)\n",
    "    cluster_labels = kmeans.fit_predict(all_data)\n",
    "    print(cluster_labels)\n",
    "    \n",
    "    # Create a 3D scatter plot\n",
    "    fig = plt.figure()\n",
    "    ax = fig.add_subplot(111, projection='3d')\n",
    "    \n",
    "    # Assign colors to clusters for visualization\n",
    "    colors = ['r', 'g', 'b']\n",
    "    \n",
    "    # Plot data points with cluster colors\n",
    "    for i in range(len(all_data)):\n",
    "        ax.scatter(all_data[i][0], all_data[i][1], all_data[i][2], c=colors[cluster_labels[i]])\n",
    "        # ax.scatter(all_data[i][0], all_data[i][1], all_data[i][2], c=colors[labels[i]])\n",
    "    \n",
    "    # Set labels for the axes\n",
    "    ax.set_xlabel('Feature 1')\n",
    "    ax.set_ylabel('Feature 2')\n",
    "    ax.set_zlabel('Feature 3')\n",
    "    \n",
    "    plt.title('K-Means Clustering of Data Points')\n",
    "    plt.show()\n",
    "#------------------------------------------\n",
    "\n",
    "\n",
    "    all_data = np.concatenate((list_1, list_2, list_3), axis=0)\n",
    "    \n",
    "    # Perform K-Means clustering with 3 clusters\n",
    "    kmeans = KMeans(n_clusters=3, random_state=0)\n",
    "    cluster_labels = kmeans.fit_predict(all_data)\n",
    "    \n",
    "    # Create a 3D scatter plot using plotly\n",
    "    trace = go.Scatter3d(\n",
    "        x=all_data[:, 0],\n",
    "        y=all_data[:, 1],\n",
    "        z=all_data[:, 2],\n",
    "        mode='markers',\n",
    "        marker=dict(\n",
    "            size=5,\n",
    "            color=cluster_labels,\n",
    "            colorscale='Viridis',  # You can choose a different colorscale\n",
    "            opacity=0.8\n",
    "        )\n",
    "    )\n",
    "    \n",
    "    layout = go.Layout(\n",
    "        scene=dict(\n",
    "            xaxis=dict(title='Feature 1'),\n",
    "            yaxis=dict(title='Feature 2'),\n",
    "            zaxis=dict(title='Feature 3')\n",
    "        ),\n",
    "        title='K-Means Clustering of Data Points'\n",
    "    )\n",
    "    \n",
    "    fig = go.Figure(data=[trace], layout=layout)\n",
    "    \n",
    "    # Show the interactive plot\n",
    "    fig.show()\n",
    "\n",
    "    #---------------------------------------------------------------- Start a Speed Checker --------------------------------\n",
    "\n",
    "def find_distance(X, centroids):\n",
    "    result = []\n",
    "    \n",
    "    for i in range(len(X)):\n",
    "        re = []\n",
    "        x2 = X[i][0]\n",
    "        y2 = X[i][1]\n",
    "        z2 = X[i][2]\n",
    "        for j in range(len(centroids)):\n",
    "            x = centroids[j][0]\n",
    "            y = centroids[j][1]\n",
    "            z = centroids[j][2]\n",
    "            dist = math.sqrt(((x2 - x) ** 2) + ((y2 - y) ** 2) + ((z2 - z) ** 2))\n",
    "            re.append(dist)\n",
    "        result.append(re)\n",
    "    return result\n",
    "\n",
    "def find_average(list_a):\n",
    "    count = len(list_a)\n",
    "    sum = 0\n",
    "    for i in list_a:\n",
    "        sum += i\n",
    "    return sum / count\n",
    "\n",
    "\n",
    "def time(df):\n",
    "    if not df.empty:  # Check if the DataFrame is not empty\n",
    "        last_row = df.iloc[-1]\n",
    "        final_time = last_row[\"Time\"]\n",
    "        return final_time\n",
    "    else:\n",
    "        return None\n",
    "\n",
    "\n",
    "def sum_speed(df):\n",
    "   sum_speed = 0\n",
    "   count = 0\n",
    "\n",
    "   for i in range(0, len(df[\"Speed\"])):\n",
    "      passed_roundabout = df[\"Circus entry\"]\n",
    "      speed = df[\"Speed\"]\n",
    "      if (passed_roundabout[i] == 1) or (passed_roundabout[i] == 2) or (passed_roundabout[i] == 3) or (passed_roundabout[i] == 4) or (passed_roundabout[i] == 5) or (passed_roundabout[i] == 6 ) or (passed_roundabout[i] == 7) or (passed_roundabout[i] == 8) or (passed_roundabout[i] == 9) or (passed_roundabout[i] == 10):\n",
    "         sum_speed += speed[i]\n",
    "         count += 1\n",
    "   \n",
    "   return sum_speed, count\n",
    "\n",
    "\n",
    "def sum_speed_cross(df):\n",
    "   sum_speed = 0\n",
    "   count = 0\n",
    "\n",
    "   for i in range(0, len(df[\"Speed\"])):\n",
    "      passed_cross = df[\"Crosswalk entry\"]\n",
    "      speed = df[\"Speed\"]\n",
    "      if (passed_cross[i] == 1) or (passed_cross[i] == 2) or (passed_cross[i] == 3) or (passed_cross[i] == 4) or (passed_cross[i] == 5) or (passed_cross[i] == 6):\n",
    "         sum_speed += speed[i]\n",
    "         count += 1\n",
    "   \n",
    "   return sum_speed, count\n",
    "\n",
    "def find_max_min_median(list1):\n",
    "  # Sort the list in ascending order.\n",
    "  list1.sort()\n",
    "\n",
    "  # Find the max and min of the list.\n",
    "  max_value = list1[-1]\n",
    "  min_value = list1[0]\n",
    "\n",
    "  # Find the median of the list.\n",
    "  if len(list1) % 2 == 0:\n",
    "    median = (list1[len(list1) // 2] + list1[len(list1) // 2 - 1]) / 2\n",
    "  else:\n",
    "    median = list1[len(list1) // 2]\n",
    "\n",
    "  return min_value, median , max_value\n",
    "\n",
    "\n",
    "\n",
    "if __name__ == '__main__':\n",
    "    main()"
   ]
  },
  {
   "cell_type": "code",
   "execution_count": null,
   "id": "82c905a4-dcfa-4425-8a3d-c1addbb83e56",
   "metadata": {},
   "outputs": [],
   "source": []
  }
 ],
 "metadata": {
  "kernelspec": {
   "display_name": "Python 3 (ipykernel)",
   "language": "python",
   "name": "python3"
  },
  "language_info": {
   "codemirror_mode": {
    "name": "ipython",
    "version": 3
   },
   "file_extension": ".py",
   "mimetype": "text/x-python",
   "name": "python",
   "nbconvert_exporter": "python",
   "pygments_lexer": "ipython3",
   "version": "3.10.10"
  }
 },
 "nbformat": 4,
 "nbformat_minor": 5
}
